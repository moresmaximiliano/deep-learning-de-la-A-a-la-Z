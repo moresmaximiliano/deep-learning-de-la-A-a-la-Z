{
 "cells": [
  {
   "cell_type": "code",
   "execution_count": 1,
   "metadata": {
    "colab": {
     "base_uri": "https://localhost:8080/",
     "height": 221
    },
    "colab_type": "code",
    "id": "rpVgSST_Y455",
    "outputId": "d11b5cbf-a03b-4b1c-a09e-938e4d56ab29"
   },
   "outputs": [
    {
     "name": "stdout",
     "output_type": "stream",
     "text": [
      "Collecting keras\n",
      "  Downloading https://files.pythonhosted.org/packages/44/e1/dc0757b20b56c980b5553c1b5c4c32d378c7055ab7bfa92006801ad359ab/Keras-2.4.3-py2.py3-none-any.whl\n",
      "Requirement already satisfied, skipping upgrade: numpy>=1.9.1 in /usr/local/lib/python3.6/dist-packages (from keras) (1.18.5)\n",
      "Requirement already satisfied, skipping upgrade: h5py in /usr/local/lib/python3.6/dist-packages (from keras) (2.10.0)\n",
      "Requirement already satisfied, skipping upgrade: pyyaml in /usr/local/lib/python3.6/dist-packages (from keras) (3.13)\n",
      "Requirement already satisfied, skipping upgrade: scipy>=0.14 in /usr/local/lib/python3.6/dist-packages (from keras) (1.4.1)\n",
      "Requirement already satisfied, skipping upgrade: six in /usr/local/lib/python3.6/dist-packages (from h5py->keras) (1.15.0)\n",
      "Installing collected packages: keras\n",
      "  Found existing installation: Keras 2.3.1\n",
      "    Uninstalling Keras-2.3.1:\n",
      "      Successfully uninstalled Keras-2.3.1\n",
      "Successfully installed keras-2.4.3\n"
     ]
    }
   ],
   "source": [
    "pip install --upgrade keras"
   ]
  },
  {
   "cell_type": "markdown",
   "metadata": {
    "colab_type": "text",
    "id": "dsvzwGy-bWrT"
   },
   "source": [
    "# Clonamos el repositorio para obtener el dataset"
   ]
  },
  {
   "cell_type": "code",
   "execution_count": 2,
   "metadata": {
    "colab": {
     "base_uri": "https://localhost:8080/",
     "height": 153
    },
    "colab_type": "code",
    "id": "DWYwSH-3Z97s",
    "outputId": "c8427df9-e692-44ac-e923-302f1cdf5cdf"
   },
   "outputs": [
    {
     "name": "stdout",
     "output_type": "stream",
     "text": [
      "Cloning into 'deeplearning-az'...\n",
      "remote: Enumerating objects: 51, done.\u001b[K\n",
      "remote: Counting objects: 100% (51/51), done.\u001b[K\n",
      "remote: Compressing objects: 100% (36/36), done.\u001b[K\n",
      "remote: Total 10147 (delta 22), reused 35 (delta 15), pack-reused 10096\u001b[K\n",
      "Receiving objects: 100% (10147/10147), 236.93 MiB | 24.77 MiB/s, done.\n",
      "Resolving deltas: 100% (47/47), done.\n",
      "Checking out files: 100% (10107/10107), done.\n"
     ]
    }
   ],
   "source": [
    "!git clone https://github.com/joanby/deeplearning-az.git"
   ]
  },
  {
   "cell_type": "code",
   "execution_count": 3,
   "metadata": {
    "colab": {
     "base_uri": "https://localhost:8080/",
     "height": 122
    },
    "colab_type": "code",
    "id": "w-fLk6oobhF2",
    "outputId": "fab36b86-0648-4b98-c68d-e827051ac506"
   },
   "outputs": [
    {
     "name": "stdout",
     "output_type": "stream",
     "text": [
      "Go to this URL in a browser: https://accounts.google.com/o/oauth2/auth?client_id=947318989803-6bn6qk8qdgf4n4g3pfee6491hc0brc4i.apps.googleusercontent.com&redirect_uri=urn%3aietf%3awg%3aoauth%3a2.0%3aoob&response_type=code&scope=email%20https%3a%2f%2fwww.googleapis.com%2fauth%2fdocs.test%20https%3a%2f%2fwww.googleapis.com%2fauth%2fdrive%20https%3a%2f%2fwww.googleapis.com%2fauth%2fdrive.photos.readonly%20https%3a%2f%2fwww.googleapis.com%2fauth%2fpeopleapi.readonly\n",
      "\n",
      "Enter your authorization code:\n",
      "··········\n",
      "Mounted at /content/drive\n"
     ]
    }
   ],
   "source": [
    "from google.colab import drive\n",
    "drive.mount('/content/drive')"
   ]
  },
  {
   "cell_type": "markdown",
   "metadata": {
    "colab_type": "text",
    "id": "t15NNKt-lpv7"
   },
   "source": [
    "# Parte 1 - Preprocesado de los datos"
   ]
  },
  {
   "cell_type": "markdown",
   "metadata": {},
   "source": [
    "## Importación de las librerías"
   ]
  },
  {
   "cell_type": "code",
   "execution_count": 1,
   "metadata": {
    "colab": {},
    "colab_type": "code",
    "id": "7NCdTPCslrel"
   },
   "outputs": [],
   "source": [
    "import numpy as np # usar arrays\n",
    "import pandas as pd # importar dataset y manejo de datos\n",
    "import matplotlib.pyplot as plt # visualizar"
   ]
  },
  {
   "cell_type": "markdown",
   "metadata": {
    "colab_type": "text",
    "id": "7w97ATJzlwcx"
   },
   "source": [
    "## Importar el dataset de entrenamiento"
   ]
  },
  {
   "cell_type": "code",
   "execution_count": 2,
   "metadata": {
    "colab": {},
    "colab_type": "code",
    "id": "In-BOPsflu-s"
   },
   "outputs": [],
   "source": [
    "# Vamos a intentar predecir el precio de las acciones de Google (es complejo predecirlas correctamente ya que se dice que los precios actuales son independientes de las transacciones pasadas)\n",
    "# Lo que si podemos hacer es predecir la tendencia de una acción, viendo si tenderá al alza o a la baja con LSTM para que nos diga si la acción de Google va a subir o bajar\n",
    "# Buscaremos los precios de las acciones desde 2012 hasta 2016, utilizandolós para predecir el precio de enero en 2017\n",
    "# Usaremos como set de entrenamiento los valores de Apertura, Cierre, Valor más alto, Valor más bajo y el volumen de transacciones de cada día desde 2012 hasta 2016, y como set de test los mismos valores de enero 2017 (eso intentaremos predecir, corroborando si fueron identificadas las tendencias correctamente). Ni los sabados, domingos y días festivos están incluidos en bolsa\n",
    "dataset_train = pd.read_csv(\"Google_Stock_Price_Train.csv\")\n",
    "training_set  = dataset_train.iloc[:, 1:2].values # le brindaré para entrenar la RNN sólo los valores de Apertura de las acciones de Google. Pasamos a dataframe aclarando [1:2] y a matriz numpy con .values (que usaremos como entrada de la RNN)\n",
    "\n",
    "# Acá no partimos en train/test, porque se supone que no debería haber testing. Deberíamos aventurarnos a predecir lo que no sabemos, solo que nosotros nos trasladamos a predecir un período conocido"
   ]
  },
  {
   "cell_type": "markdown",
   "metadata": {
    "colab_type": "text",
    "id": "W5TcdlcrlyZq"
   },
   "source": [
    "## Escalado de características"
   ]
  },
  {
   "cell_type": "code",
   "execution_count": 3,
   "metadata": {
    "colab": {},
    "colab_type": "code",
    "id": "oB6YUNwDl0uE"
   },
   "outputs": [],
   "source": [
    "# Es casi obligación escalar las características para cualquier NN, específicamente para RNN se recomienda la Normalización (por sobre la Estandarización)\n",
    "from sklearn.preprocessing import MinMaxScaler\n",
    "sc = MinMaxScaler(feature_range = (0, 1)) # escalador (por defecto es así)\n",
    "training_set_scaled = sc.fit_transform(training_set) # aplicamos el escalador al set, pero conservamos el original (fit localizará el mín y el max de X para aplicar la fórmula y transform trransformará los datos según la formula)"
   ]
  },
  {
   "cell_type": "markdown",
   "metadata": {
    "colab_type": "text",
    "id": "bTnKn6ifl2He"
   },
   "source": [
    "## Crear una estructura de datos con 60 timesteps y 1 salida"
   ]
  },
  {
   "cell_type": "code",
   "execution_count": 4,
   "metadata": {
    "colab": {},
    "colab_type": "code",
    "id": "kk8UUw0_lz5S"
   },
   "outputs": [],
   "source": [
    "# Creamos una estructura que especifique lo que la RNN tenga que recordar en la prox iteración en base a los anteriores\n",
    "# 60 Timesteps significa que en c/momento de tiempo la RNN será capaz de mirar 60 días de precios anteriores, y en base a eso intenta predecir el precio siguiente\n",
    "# Los 60 pasos del pasado será la entrada de la RNN, y la misma intentará predecir en el momento t usando los t-60 días\n",
    "# Probar con diferentes valores, en este caso ya se encontró con que 60 días era favorable para el rendimiento de la RNN (en base al trimestre, tomando en cuenta de que por mes hay 20 días hábiles)\n",
    "# Sobre el set de entrenamiento nosotros extraeremos X_train y Y_train de una misma columna\n",
    "X_train = [] # 60 datos de entrada\n",
    "y_train = [] # usaré el día siguiente de los 60 para predecir\n",
    "for i in range(60, 1258): # itero sobre todos los valores que tiene el dataset para dividir en X y en Y (cada 60 obs de X, la 61 es Y, desplazando en 1 los índices que toma X). Ponemos en el for (timesteps, número de obs en las cuales basarse para predecir; número total de obs, acordarse que empieza en 0 asiq poner n-1)\n",
    "    X_train.append(training_set_scaled[i-60:i, 0]) # toma desde el índice 0 (valor nro 1) hasta el 59 (valor nro 60) para predecir el 60 (valor nro 61), pero luego también incluye desde el 1 al 60 para predecir el 61 (valor nro 62), desde el 2 al 61 para predecir el 62 (valor nro 63), etc hasta predecir el último valor del dataset (valor nro 1258, ubicado en índice 1257) con los 60 valores previos\n",
    "    y_train.append(training_set_scaled[i, 0]) # valor en el día actual a predecir con los 60 valores previos (avanza de a 1). Poner el 0 en los 2 casos para conservarlos como matrices numpy y usar los valores normalizados\n",
    "X_train, y_train = np.array(X_train), np.array(y_train) # transformo las listas en matrices numpy\n",
    "\n",
    "# Me termina dando como X_train una matriz de 1198 filas (n - timesteps) y 60 columnas (timesteps). Una columna por cada X usada para predecir un Y específico, y los 1198 casos posibles de usar 60 valores como X, ya que hasta no llegar al valor 60 no podemos tomar otro conjunto de 60 datos como X\n",
    "# En la segunda fila, la columna (día) 2 se transforma en la 1, la 3 en la 2 y así (se desplaza en un día hacia atras los valores tomados por cada fila)\n",
    "# El batch size de nuestra RNN tendrá el valor de 1198 (n - timesteps)"
   ]
  },
  {
   "cell_type": "markdown",
   "metadata": {
    "colab_type": "text",
    "id": "ofUwrSJbl6cO"
   },
   "source": [
    "## Redimensión de los datos (necesario siempre, pudiendo incluso agregar dimensiones si usaremos más índices)"
   ]
  },
  {
   "cell_type": "code",
   "execution_count": 5,
   "metadata": {
    "colab": {},
    "colab_type": "code",
    "id": "17RfTB75l7Bi"
   },
   "outputs": [],
   "source": [
    "# Si yo quisiera agregar más acciones a predecir, o más variables de entrada (Precio de Cierre), tendría si agg 1 un array tridimensional, donde c/fila correspondería a los datos usados para predecir cada y, columnas a cada día usado (60, variando los valores en 1), y en profundidad tendríamos los mismos datos pero de otras compañias u otros datos como valor de cierre\n",
    "# En este caso no analizaremos más variables de Google ni más compañias (si agg esto podríamos ver interrelaciones entre los precios de varias compañias) por temas de visualización, pero si quisieramos tendríamos que agg la siguiente linea\n",
    "X_train = np.reshape(X_train, (X_train.shape[0], X_train.shape[1], 1)) # agregamos una dimensión extra a la estructura anterior con reshape. Primer argumento: variable que queremos redimensionar, segundo argumento: nueva dimensión de la variable (cambiando solo la profundidad del dataset, en nuestro caso ponemos 1 porque solo vamos a utilizar una variable/índice, pero tomar el número de índices que tomaremos en cuenta para elaborar la predicción)\n",
    "# Podriamos agg en la nueva dimensión más indices financieros que nos permitan predecir el precio de Google (incluso variables propias). Por ej podríamos añadir los precios de acciones otra empresa muy correlacionada con Google para perfeccionar la predicción \n",
    "# Debemos tomar una variable compatible con la manera en que ha sido recopilada Open Price (diaramente, en días hábiles de 2012 a 2016)\n",
    "\n",
    "# Ahora X_train es una matriz con una profundidad de 1 (3D), según el índice que utilizaremos (si son más poner cantidad)"
   ]
  },
  {
   "cell_type": "markdown",
   "metadata": {
    "colab_type": "text",
    "id": "AtczsRskbj2F"
   },
   "source": [
    "# Parte 2 - Construcción de la RNR"
   ]
  },
  {
   "cell_type": "code",
   "execution_count": 6,
   "metadata": {
    "colab": {},
    "colab_type": "code",
    "id": "Td6hF67QnL41"
   },
   "outputs": [],
   "source": [
    "# Haremos un LSTM complejo, con varias capas e incluso con Dropout para evitar Overffiting\n",
    "from keras.models import Sequential # si tengo un volumen muy amplio de datos, debo optar por un grafo computacional dinámico (PyTorch) en vez de una arquitectura secuencial de capas\n",
    "from keras.layers import Dense, LSTM, Dropout, Input"
   ]
  },
  {
   "cell_type": "code",
   "execution_count": 7,
   "metadata": {
    "colab": {},
    "colab_type": "code",
    "id": "rQL9sTJ9Y_Vc"
   },
   "outputs": [],
   "source": [
    "regressor = Sequential() # como vamos a predecir precios, lo definimos como regresor"
   ]
  },
  {
   "cell_type": "markdown",
   "metadata": {
    "colab_type": "text",
    "id": "tUbAgrrqbpsY"
   },
   "source": [
    "## Añadir la primera capa de LSTM y la regulariación por Dropout"
   ]
  },
  {
   "cell_type": "code",
   "execution_count": 8,
   "metadata": {
    "colab": {},
    "colab_type": "code",
    "id": "2kYdJsjsZCR8"
   },
   "outputs": [],
   "source": [
    "# Regla general: Aplicar capa LSTM seguida de una de Dropout\n",
    "regressor.add(Input(shape=(X_train.shape[1], 1))) # Definir la forma de entrada usando una capa Input (en vez de input_shape como parámetro prefiere así). , input_shape: tamaño de la forma de entrada de los datos (columnas, debemos agregarle también la dimensión, por lo que debemos agregarle el número de índices o variables con las que vamos a predecir el precio) \n",
    "regressor.add(LSTM(units = 50, return_sequences = True )) # units: cuantas neuronas LSTM queremos meter en la celda/capa, return_sequences: lo ponemos como True si queremos hacer un LSTM apilado, indicando que una capa de LSTM es lo que le va a seguir en la arquitectura, transmitiendo los valores y neuronas de LSTM (a la última capa LSTM no le ponemos True)\n",
    "regressor.add(Dropout(0.2)) # para prevenir sobre ajuste (desactivar aleatoriamente algunas neuronas de la capa anterior para evitar que capten o refuercen las mismas relaciones). Poner valores entre un 10% y 20%\n",
    "# El número de neuronas debe ser elevado, para captar correlaciones complejas en las acciones (depende de la problemática en concreto también)\n",
    "# En input shape solo le indico los timesteps y el número de características a utilizar. No incluimos el número de filas porque luego cuando compilemos la red vamos a determinar la forma en que se los pasamos"
   ]
  },
  {
   "cell_type": "markdown",
   "metadata": {
    "colab_type": "text",
    "id": "rBFya76KbsKw"
   },
   "source": [
    "## Añadir la segunda capa de LSTM y la regulariación por Dropout"
   ]
  },
  {
   "cell_type": "code",
   "execution_count": 9,
   "metadata": {
    "colab": {},
    "colab_type": "code",
    "id": "jty3bSFYZD98"
   },
   "outputs": [],
   "source": [
    "regressor.add(LSTM(units = 50, return_sequences = True )) # no input shape, con las unidades aclaradas en la capa anterior ya se establecen las entradas de esta\n",
    "regressor.add(Dropout(0.2)) "
   ]
  },
  {
   "cell_type": "markdown",
   "metadata": {
    "colab_type": "text",
    "id": "IgJ4s9fSb8bm"
   },
   "source": [
    "## Añadir la tercera capa de LSTM y la regulariación por Dropout"
   ]
  },
  {
   "cell_type": "code",
   "execution_count": 10,
   "metadata": {
    "colab": {},
    "colab_type": "code",
    "id": "mkVuO25YZHtg"
   },
   "outputs": [],
   "source": [
    "regressor.add(LSTM(units = 50, return_sequences = True ))\n",
    "regressor.add(Dropout(0.2))"
   ]
  },
  {
   "cell_type": "markdown",
   "metadata": {
    "colab_type": "text",
    "id": "D8PFVngxmTaT"
   },
   "source": [
    "## Añadir la cuarta capa de LSTM y la regulariación por Dropout"
   ]
  },
  {
   "cell_type": "code",
   "execution_count": 11,
   "metadata": {
    "colab": {},
    "colab_type": "code",
    "id": "JWl9_DHxZJZD"
   },
   "outputs": [],
   "source": [
    "regressor.add(LSTM(units = 50)) # sin return_sequences, ya que la capa de salida es densa\n",
    "regressor.add(Dropout(0.2))"
   ]
  },
  {
   "cell_type": "markdown",
   "metadata": {
    "colab_type": "text",
    "id": "iliYQ6aFmYov"
   },
   "source": [
    "## Añadir la capa de salida (densa)"
   ]
  },
  {
   "cell_type": "code",
   "execution_count": 12,
   "metadata": {
    "colab": {},
    "colab_type": "code",
    "id": "KQnTQSjyZKXs"
   },
   "outputs": [],
   "source": [
    "regressor.add(Dense(units = 1)) # Usamos una capa clásica con 1 neurona, al predecirme solo un valor"
   ]
  },
  {
   "cell_type": "markdown",
   "metadata": {
    "colab_type": "text",
    "id": "p7INHvHmcFdL"
   },
   "source": [
    "## Compilar la RNR\n",
    "## Como va a ser entrenada?"
   ]
  },
  {
   "cell_type": "code",
   "execution_count": 13,
   "metadata": {
    "colab": {},
    "colab_type": "code",
    "id": "Uc7pBop7ZLeN"
   },
   "outputs": [],
   "source": [
    "regressor.compile(optimizer = 'adam', loss = 'mean_squared_error') \n",
    "# El optimizador para RNN de regresión puede ser: RMSprop (mejora de GD usado para RNN, pero con Adam nos ha dado mejores resultados), Adam (ver en Keras-Optimizer), Nadam (combinación entre ambos)  \n",
    "# La función de pérdida para RNN de regresión puede ser: error cuadrático medio (ver más funciones de pérdida para regresión)"
   ]
  },
  {
   "cell_type": "markdown",
   "metadata": {
    "colab_type": "text",
    "id": "hits0FnccMjr"
   },
   "source": [
    "## Ajustar la RNR al conjunto de entrenamiento"
   ]
  },
  {
   "cell_type": "code",
   "execution_count": 14,
   "metadata": {
    "colab": {
     "base_uri": "https://localhost:8080/",
     "height": 1000
    },
    "colab_type": "code",
    "id": "BYgCwVDFZMrU",
    "outputId": "2a9b3579-508f-4d47-ec4d-dddac468bf3c"
   },
   "outputs": [
    {
     "name": "stdout",
     "output_type": "stream",
     "text": [
      "Epoch 1/100\n",
      "\u001b[1m38/38\u001b[0m \u001b[32m━━━━━━━━━━━━━━━━━━━━\u001b[0m\u001b[37m\u001b[0m \u001b[1m12s\u001b[0m 58ms/step - loss: 0.0623\n",
      "Epoch 2/100\n",
      "\u001b[1m38/38\u001b[0m \u001b[32m━━━━━━━━━━━━━━━━━━━━\u001b[0m\u001b[37m\u001b[0m \u001b[1m2s\u001b[0m 60ms/step - loss: 0.0077\n",
      "Epoch 3/100\n",
      "\u001b[1m38/38\u001b[0m \u001b[32m━━━━━━━━━━━━━━━━━━━━\u001b[0m\u001b[37m\u001b[0m \u001b[1m2s\u001b[0m 58ms/step - loss: 0.0056\n",
      "Epoch 4/100\n",
      "\u001b[1m38/38\u001b[0m \u001b[32m━━━━━━━━━━━━━━━━━━━━\u001b[0m\u001b[37m\u001b[0m \u001b[1m2s\u001b[0m 58ms/step - loss: 0.0054\n",
      "Epoch 5/100\n",
      "\u001b[1m38/38\u001b[0m \u001b[32m━━━━━━━━━━━━━━━━━━━━\u001b[0m\u001b[37m\u001b[0m \u001b[1m2s\u001b[0m 59ms/step - loss: 0.0053\n",
      "Epoch 6/100\n",
      "\u001b[1m38/38\u001b[0m \u001b[32m━━━━━━━━━━━━━━━━━━━━\u001b[0m\u001b[37m\u001b[0m \u001b[1m2s\u001b[0m 54ms/step - loss: 0.0046\n",
      "Epoch 7/100\n",
      "\u001b[1m38/38\u001b[0m \u001b[32m━━━━━━━━━━━━━━━━━━━━\u001b[0m\u001b[37m\u001b[0m \u001b[1m2s\u001b[0m 55ms/step - loss: 0.0047\n",
      "Epoch 8/100\n",
      "\u001b[1m38/38\u001b[0m \u001b[32m━━━━━━━━━━━━━━━━━━━━\u001b[0m\u001b[37m\u001b[0m \u001b[1m2s\u001b[0m 54ms/step - loss: 0.0039\n",
      "Epoch 9/100\n",
      "\u001b[1m38/38\u001b[0m \u001b[32m━━━━━━━━━━━━━━━━━━━━\u001b[0m\u001b[37m\u001b[0m \u001b[1m2s\u001b[0m 59ms/step - loss: 0.0043\n",
      "Epoch 10/100\n",
      "\u001b[1m38/38\u001b[0m \u001b[32m━━━━━━━━━━━━━━━━━━━━\u001b[0m\u001b[37m\u001b[0m \u001b[1m2s\u001b[0m 61ms/step - loss: 0.0043\n",
      "Epoch 11/100\n",
      "\u001b[1m38/38\u001b[0m \u001b[32m━━━━━━━━━━━━━━━━━━━━\u001b[0m\u001b[37m\u001b[0m \u001b[1m2s\u001b[0m 57ms/step - loss: 0.0050\n",
      "Epoch 12/100\n",
      "\u001b[1m38/38\u001b[0m \u001b[32m━━━━━━━━━━━━━━━━━━━━\u001b[0m\u001b[37m\u001b[0m \u001b[1m2s\u001b[0m 56ms/step - loss: 0.0040\n",
      "Epoch 13/100\n",
      "\u001b[1m38/38\u001b[0m \u001b[32m━━━━━━━━━━━━━━━━━━━━\u001b[0m\u001b[37m\u001b[0m \u001b[1m2s\u001b[0m 55ms/step - loss: 0.0039\n",
      "Epoch 14/100\n",
      "\u001b[1m38/38\u001b[0m \u001b[32m━━━━━━━━━━━━━━━━━━━━\u001b[0m\u001b[37m\u001b[0m \u001b[1m2s\u001b[0m 57ms/step - loss: 0.0035\n",
      "Epoch 15/100\n",
      "\u001b[1m38/38\u001b[0m \u001b[32m━━━━━━━━━━━━━━━━━━━━\u001b[0m\u001b[37m\u001b[0m \u001b[1m2s\u001b[0m 55ms/step - loss: 0.0037\n",
      "Epoch 16/100\n",
      "\u001b[1m38/38\u001b[0m \u001b[32m━━━━━━━━━━━━━━━━━━━━\u001b[0m\u001b[37m\u001b[0m \u001b[1m2s\u001b[0m 55ms/step - loss: 0.0036\n",
      "Epoch 17/100\n",
      "\u001b[1m38/38\u001b[0m \u001b[32m━━━━━━━━━━━━━━━━━━━━\u001b[0m\u001b[37m\u001b[0m \u001b[1m2s\u001b[0m 51ms/step - loss: 0.0033\n",
      "Epoch 18/100\n",
      "\u001b[1m38/38\u001b[0m \u001b[32m━━━━━━━━━━━━━━━━━━━━\u001b[0m\u001b[37m\u001b[0m \u001b[1m2s\u001b[0m 47ms/step - loss: 0.0032\n",
      "Epoch 19/100\n",
      "\u001b[1m38/38\u001b[0m \u001b[32m━━━━━━━━━━━━━━━━━━━━\u001b[0m\u001b[37m\u001b[0m \u001b[1m2s\u001b[0m 49ms/step - loss: 0.0037\n",
      "Epoch 20/100\n",
      "\u001b[1m38/38\u001b[0m \u001b[32m━━━━━━━━━━━━━━━━━━━━\u001b[0m\u001b[37m\u001b[0m \u001b[1m2s\u001b[0m 47ms/step - loss: 0.0044\n",
      "Epoch 21/100\n",
      "\u001b[1m38/38\u001b[0m \u001b[32m━━━━━━━━━━━━━━━━━━━━\u001b[0m\u001b[37m\u001b[0m \u001b[1m2s\u001b[0m 47ms/step - loss: 0.0028\n",
      "Epoch 22/100\n",
      "\u001b[1m38/38\u001b[0m \u001b[32m━━━━━━━━━━━━━━━━━━━━\u001b[0m\u001b[37m\u001b[0m \u001b[1m2s\u001b[0m 49ms/step - loss: 0.0030\n",
      "Epoch 23/100\n",
      "\u001b[1m38/38\u001b[0m \u001b[32m━━━━━━━━━━━━━━━━━━━━\u001b[0m\u001b[37m\u001b[0m \u001b[1m2s\u001b[0m 47ms/step - loss: 0.0032\n",
      "Epoch 24/100\n",
      "\u001b[1m38/38\u001b[0m \u001b[32m━━━━━━━━━━━━━━━━━━━━\u001b[0m\u001b[37m\u001b[0m \u001b[1m2s\u001b[0m 48ms/step - loss: 0.0037\n",
      "Epoch 25/100\n",
      "\u001b[1m38/38\u001b[0m \u001b[32m━━━━━━━━━━━━━━━━━━━━\u001b[0m\u001b[37m\u001b[0m \u001b[1m2s\u001b[0m 49ms/step - loss: 0.0028\n",
      "Epoch 26/100\n",
      "\u001b[1m38/38\u001b[0m \u001b[32m━━━━━━━━━━━━━━━━━━━━\u001b[0m\u001b[37m\u001b[0m \u001b[1m2s\u001b[0m 47ms/step - loss: 0.0029\n",
      "Epoch 27/100\n",
      "\u001b[1m38/38\u001b[0m \u001b[32m━━━━━━━━━━━━━━━━━━━━\u001b[0m\u001b[37m\u001b[0m \u001b[1m2s\u001b[0m 47ms/step - loss: 0.0031\n",
      "Epoch 28/100\n",
      "\u001b[1m38/38\u001b[0m \u001b[32m━━━━━━━━━━━━━━━━━━━━\u001b[0m\u001b[37m\u001b[0m \u001b[1m2s\u001b[0m 47ms/step - loss: 0.0030\n",
      "Epoch 29/100\n",
      "\u001b[1m38/38\u001b[0m \u001b[32m━━━━━━━━━━━━━━━━━━━━\u001b[0m\u001b[37m\u001b[0m \u001b[1m2s\u001b[0m 49ms/step - loss: 0.0031\n",
      "Epoch 30/100\n",
      "\u001b[1m38/38\u001b[0m \u001b[32m━━━━━━━━━━━━━━━━━━━━\u001b[0m\u001b[37m\u001b[0m \u001b[1m2s\u001b[0m 48ms/step - loss: 0.0028\n",
      "Epoch 31/100\n",
      "\u001b[1m38/38\u001b[0m \u001b[32m━━━━━━━━━━━━━━━━━━━━\u001b[0m\u001b[37m\u001b[0m \u001b[1m2s\u001b[0m 48ms/step - loss: 0.0028\n",
      "Epoch 32/100\n",
      "\u001b[1m38/38\u001b[0m \u001b[32m━━━━━━━━━━━━━━━━━━━━\u001b[0m\u001b[37m\u001b[0m \u001b[1m2s\u001b[0m 47ms/step - loss: 0.0030\n",
      "Epoch 33/100\n",
      "\u001b[1m38/38\u001b[0m \u001b[32m━━━━━━━━━━━━━━━━━━━━\u001b[0m\u001b[37m\u001b[0m \u001b[1m2s\u001b[0m 49ms/step - loss: 0.0024\n",
      "Epoch 34/100\n",
      "\u001b[1m38/38\u001b[0m \u001b[32m━━━━━━━━━━━━━━━━━━━━\u001b[0m\u001b[37m\u001b[0m \u001b[1m2s\u001b[0m 48ms/step - loss: 0.0025\n",
      "Epoch 35/100\n",
      "\u001b[1m38/38\u001b[0m \u001b[32m━━━━━━━━━━━━━━━━━━━━\u001b[0m\u001b[37m\u001b[0m \u001b[1m2s\u001b[0m 48ms/step - loss: 0.0028\n",
      "Epoch 36/100\n",
      "\u001b[1m38/38\u001b[0m \u001b[32m━━━━━━━━━━━━━━━━━━━━\u001b[0m\u001b[37m\u001b[0m \u001b[1m2s\u001b[0m 49ms/step - loss: 0.0028\n",
      "Epoch 37/100\n",
      "\u001b[1m38/38\u001b[0m \u001b[32m━━━━━━━━━━━━━━━━━━━━\u001b[0m\u001b[37m\u001b[0m \u001b[1m2s\u001b[0m 49ms/step - loss: 0.0028\n",
      "Epoch 38/100\n",
      "\u001b[1m38/38\u001b[0m \u001b[32m━━━━━━━━━━━━━━━━━━━━\u001b[0m\u001b[37m\u001b[0m \u001b[1m2s\u001b[0m 52ms/step - loss: 0.0028\n",
      "Epoch 39/100\n",
      "\u001b[1m38/38\u001b[0m \u001b[32m━━━━━━━━━━━━━━━━━━━━\u001b[0m\u001b[37m\u001b[0m \u001b[1m2s\u001b[0m 50ms/step - loss: 0.0025\n",
      "Epoch 40/100\n",
      "\u001b[1m38/38\u001b[0m \u001b[32m━━━━━━━━━━━━━━━━━━━━\u001b[0m\u001b[37m\u001b[0m \u001b[1m2s\u001b[0m 48ms/step - loss: 0.0030\n",
      "Epoch 41/100\n",
      "\u001b[1m38/38\u001b[0m \u001b[32m━━━━━━━━━━━━━━━━━━━━\u001b[0m\u001b[37m\u001b[0m \u001b[1m2s\u001b[0m 52ms/step - loss: 0.0024\n",
      "Epoch 42/100\n",
      "\u001b[1m38/38\u001b[0m \u001b[32m━━━━━━━━━━━━━━━━━━━━\u001b[0m\u001b[37m\u001b[0m \u001b[1m2s\u001b[0m 51ms/step - loss: 0.0027\n",
      "Epoch 43/100\n",
      "\u001b[1m38/38\u001b[0m \u001b[32m━━━━━━━━━━━━━━━━━━━━\u001b[0m\u001b[37m\u001b[0m \u001b[1m2s\u001b[0m 52ms/step - loss: 0.0026\n",
      "Epoch 44/100\n",
      "\u001b[1m38/38\u001b[0m \u001b[32m━━━━━━━━━━━━━━━━━━━━\u001b[0m\u001b[37m\u001b[0m \u001b[1m2s\u001b[0m 49ms/step - loss: 0.0025\n",
      "Epoch 45/100\n",
      "\u001b[1m38/38\u001b[0m \u001b[32m━━━━━━━━━━━━━━━━━━━━\u001b[0m\u001b[37m\u001b[0m \u001b[1m2s\u001b[0m 52ms/step - loss: 0.0023\n",
      "Epoch 46/100\n",
      "\u001b[1m38/38\u001b[0m \u001b[32m━━━━━━━━━━━━━━━━━━━━\u001b[0m\u001b[37m\u001b[0m \u001b[1m2s\u001b[0m 51ms/step - loss: 0.0024\n",
      "Epoch 47/100\n",
      "\u001b[1m38/38\u001b[0m \u001b[32m━━━━━━━━━━━━━━━━━━━━\u001b[0m\u001b[37m\u001b[0m \u001b[1m2s\u001b[0m 52ms/step - loss: 0.0026\n",
      "Epoch 48/100\n",
      "\u001b[1m38/38\u001b[0m \u001b[32m━━━━━━━━━━━━━━━━━━━━\u001b[0m\u001b[37m\u001b[0m \u001b[1m2s\u001b[0m 49ms/step - loss: 0.0021\n",
      "Epoch 49/100\n",
      "\u001b[1m38/38\u001b[0m \u001b[32m━━━━━━━━━━━━━━━━━━━━\u001b[0m\u001b[37m\u001b[0m \u001b[1m2s\u001b[0m 49ms/step - loss: 0.0022\n",
      "Epoch 50/100\n",
      "\u001b[1m38/38\u001b[0m \u001b[32m━━━━━━━━━━━━━━━━━━━━\u001b[0m\u001b[37m\u001b[0m \u001b[1m2s\u001b[0m 49ms/step - loss: 0.0024\n",
      "Epoch 51/100\n",
      "\u001b[1m38/38\u001b[0m \u001b[32m━━━━━━━━━━━━━━━━━━━━\u001b[0m\u001b[37m\u001b[0m \u001b[1m2s\u001b[0m 49ms/step - loss: 0.0023\n",
      "Epoch 52/100\n",
      "\u001b[1m38/38\u001b[0m \u001b[32m━━━━━━━━━━━━━━━━━━━━\u001b[0m\u001b[37m\u001b[0m \u001b[1m2s\u001b[0m 48ms/step - loss: 0.0023\n",
      "Epoch 53/100\n",
      "\u001b[1m38/38\u001b[0m \u001b[32m━━━━━━━━━━━━━━━━━━━━\u001b[0m\u001b[37m\u001b[0m \u001b[1m2s\u001b[0m 49ms/step - loss: 0.0022\n",
      "Epoch 54/100\n",
      "\u001b[1m38/38\u001b[0m \u001b[32m━━━━━━━━━━━━━━━━━━━━\u001b[0m\u001b[37m\u001b[0m \u001b[1m3s\u001b[0m 68ms/step - loss: 0.0020\n",
      "Epoch 55/100\n",
      "\u001b[1m38/38\u001b[0m \u001b[32m━━━━━━━━━━━━━━━━━━━━\u001b[0m\u001b[37m\u001b[0m \u001b[1m2s\u001b[0m 59ms/step - loss: 0.0022\n",
      "Epoch 56/100\n",
      "\u001b[1m38/38\u001b[0m \u001b[32m━━━━━━━━━━━━━━━━━━━━\u001b[0m\u001b[37m\u001b[0m \u001b[1m2s\u001b[0m 62ms/step - loss: 0.0024\n",
      "Epoch 57/100\n",
      "\u001b[1m38/38\u001b[0m \u001b[32m━━━━━━━━━━━━━━━━━━━━\u001b[0m\u001b[37m\u001b[0m \u001b[1m2s\u001b[0m 59ms/step - loss: 0.0019\n",
      "Epoch 58/100\n",
      "\u001b[1m38/38\u001b[0m \u001b[32m━━━━━━━━━━━━━━━━━━━━\u001b[0m\u001b[37m\u001b[0m \u001b[1m2s\u001b[0m 57ms/step - loss: 0.0021\n",
      "Epoch 59/100\n",
      "\u001b[1m38/38\u001b[0m \u001b[32m━━━━━━━━━━━━━━━━━━━━\u001b[0m\u001b[37m\u001b[0m \u001b[1m2s\u001b[0m 56ms/step - loss: 0.0020\n",
      "Epoch 60/100\n",
      "\u001b[1m38/38\u001b[0m \u001b[32m━━━━━━━━━━━━━━━━━━━━\u001b[0m\u001b[37m\u001b[0m \u001b[1m2s\u001b[0m 60ms/step - loss: 0.0020\n",
      "Epoch 61/100\n",
      "\u001b[1m38/38\u001b[0m \u001b[32m━━━━━━━━━━━━━━━━━━━━\u001b[0m\u001b[37m\u001b[0m \u001b[1m2s\u001b[0m 61ms/step - loss: 0.0021\n",
      "Epoch 62/100\n",
      "\u001b[1m38/38\u001b[0m \u001b[32m━━━━━━━━━━━━━━━━━━━━\u001b[0m\u001b[37m\u001b[0m \u001b[1m2s\u001b[0m 59ms/step - loss: 0.0020\n",
      "Epoch 63/100\n",
      "\u001b[1m38/38\u001b[0m \u001b[32m━━━━━━━━━━━━━━━━━━━━\u001b[0m\u001b[37m\u001b[0m \u001b[1m2s\u001b[0m 58ms/step - loss: 0.0020\n",
      "Epoch 64/100\n",
      "\u001b[1m38/38\u001b[0m \u001b[32m━━━━━━━━━━━━━━━━━━━━\u001b[0m\u001b[37m\u001b[0m \u001b[1m2s\u001b[0m 58ms/step - loss: 0.0026\n",
      "Epoch 65/100\n",
      "\u001b[1m38/38\u001b[0m \u001b[32m━━━━━━━━━━━━━━━━━━━━\u001b[0m\u001b[37m\u001b[0m \u001b[1m2s\u001b[0m 58ms/step - loss: 0.0018\n",
      "Epoch 66/100\n",
      "\u001b[1m38/38\u001b[0m \u001b[32m━━━━━━━━━━━━━━━━━━━━\u001b[0m\u001b[37m\u001b[0m \u001b[1m2s\u001b[0m 58ms/step - loss: 0.0019\n",
      "Epoch 67/100\n",
      "\u001b[1m38/38\u001b[0m \u001b[32m━━━━━━━━━━━━━━━━━━━━\u001b[0m\u001b[37m\u001b[0m \u001b[1m2s\u001b[0m 58ms/step - loss: 0.0018\n",
      "Epoch 68/100\n",
      "\u001b[1m38/38\u001b[0m \u001b[32m━━━━━━━━━━━━━━━━━━━━\u001b[0m\u001b[37m\u001b[0m \u001b[1m2s\u001b[0m 57ms/step - loss: 0.0018\n",
      "Epoch 69/100\n",
      "\u001b[1m38/38\u001b[0m \u001b[32m━━━━━━━━━━━━━━━━━━━━\u001b[0m\u001b[37m\u001b[0m \u001b[1m2s\u001b[0m 58ms/step - loss: 0.0017\n",
      "Epoch 70/100\n",
      "\u001b[1m38/38\u001b[0m \u001b[32m━━━━━━━━━━━━━━━━━━━━\u001b[0m\u001b[37m\u001b[0m \u001b[1m2s\u001b[0m 61ms/step - loss: 0.0019\n",
      "Epoch 71/100\n",
      "\u001b[1m38/38\u001b[0m \u001b[32m━━━━━━━━━━━━━━━━━━━━\u001b[0m\u001b[37m\u001b[0m \u001b[1m2s\u001b[0m 58ms/step - loss: 0.0022\n",
      "Epoch 72/100\n",
      "\u001b[1m38/38\u001b[0m \u001b[32m━━━━━━━━━━━━━━━━━━━━\u001b[0m\u001b[37m\u001b[0m \u001b[1m2s\u001b[0m 58ms/step - loss: 0.0019\n",
      "Epoch 73/100\n",
      "\u001b[1m38/38\u001b[0m \u001b[32m━━━━━━━━━━━━━━━━━━━━\u001b[0m\u001b[37m\u001b[0m \u001b[1m2s\u001b[0m 57ms/step - loss: 0.0018\n",
      "Epoch 74/100\n",
      "\u001b[1m38/38\u001b[0m \u001b[32m━━━━━━━━━━━━━━━━━━━━\u001b[0m\u001b[37m\u001b[0m \u001b[1m2s\u001b[0m 59ms/step - loss: 0.0016\n",
      "Epoch 75/100\n",
      "\u001b[1m38/38\u001b[0m \u001b[32m━━━━━━━━━━━━━━━━━━━━\u001b[0m\u001b[37m\u001b[0m \u001b[1m2s\u001b[0m 57ms/step - loss: 0.0019\n",
      "Epoch 76/100\n",
      "\u001b[1m38/38\u001b[0m \u001b[32m━━━━━━━━━━━━━━━━━━━━\u001b[0m\u001b[37m\u001b[0m \u001b[1m2s\u001b[0m 61ms/step - loss: 0.0018\n",
      "Epoch 77/100\n",
      "\u001b[1m38/38\u001b[0m \u001b[32m━━━━━━━━━━━━━━━━━━━━\u001b[0m\u001b[37m\u001b[0m \u001b[1m2s\u001b[0m 63ms/step - loss: 0.0017\n",
      "Epoch 78/100\n",
      "\u001b[1m38/38\u001b[0m \u001b[32m━━━━━━━━━━━━━━━━━━━━\u001b[0m\u001b[37m\u001b[0m \u001b[1m2s\u001b[0m 58ms/step - loss: 0.0017\n",
      "Epoch 79/100\n",
      "\u001b[1m38/38\u001b[0m \u001b[32m━━━━━━━━━━━━━━━━━━━━\u001b[0m\u001b[37m\u001b[0m \u001b[1m2s\u001b[0m 59ms/step - loss: 0.0017\n",
      "Epoch 80/100\n",
      "\u001b[1m38/38\u001b[0m \u001b[32m━━━━━━━━━━━━━━━━━━━━\u001b[0m\u001b[37m\u001b[0m \u001b[1m2s\u001b[0m 59ms/step - loss: 0.0017\n",
      "Epoch 81/100\n",
      "\u001b[1m38/38\u001b[0m \u001b[32m━━━━━━━━━━━━━━━━━━━━\u001b[0m\u001b[37m\u001b[0m \u001b[1m2s\u001b[0m 58ms/step - loss: 0.0014\n",
      "Epoch 82/100\n",
      "\u001b[1m38/38\u001b[0m \u001b[32m━━━━━━━━━━━━━━━━━━━━\u001b[0m\u001b[37m\u001b[0m \u001b[1m2s\u001b[0m 59ms/step - loss: 0.0015\n",
      "Epoch 83/100\n",
      "\u001b[1m38/38\u001b[0m \u001b[32m━━━━━━━━━━━━━━━━━━━━\u001b[0m\u001b[37m\u001b[0m \u001b[1m2s\u001b[0m 61ms/step - loss: 0.0016\n",
      "Epoch 84/100\n",
      "\u001b[1m38/38\u001b[0m \u001b[32m━━━━━━━━━━━━━━━━━━━━\u001b[0m\u001b[37m\u001b[0m \u001b[1m2s\u001b[0m 64ms/step - loss: 0.0014\n",
      "Epoch 85/100\n",
      "\u001b[1m38/38\u001b[0m \u001b[32m━━━━━━━━━━━━━━━━━━━━\u001b[0m\u001b[37m\u001b[0m \u001b[1m2s\u001b[0m 62ms/step - loss: 0.0017\n",
      "Epoch 86/100\n",
      "\u001b[1m38/38\u001b[0m \u001b[32m━━━━━━━━━━━━━━━━━━━━\u001b[0m\u001b[37m\u001b[0m \u001b[1m2s\u001b[0m 51ms/step - loss: 0.0016\n",
      "Epoch 87/100\n",
      "\u001b[1m38/38\u001b[0m \u001b[32m━━━━━━━━━━━━━━━━━━━━\u001b[0m\u001b[37m\u001b[0m \u001b[1m2s\u001b[0m 53ms/step - loss: 0.0017\n",
      "Epoch 88/100\n",
      "\u001b[1m38/38\u001b[0m \u001b[32m━━━━━━━━━━━━━━━━━━━━\u001b[0m\u001b[37m\u001b[0m \u001b[1m2s\u001b[0m 50ms/step - loss: 0.0016\n",
      "Epoch 89/100\n",
      "\u001b[1m38/38\u001b[0m \u001b[32m━━━━━━━━━━━━━━━━━━━━\u001b[0m\u001b[37m\u001b[0m \u001b[1m2s\u001b[0m 49ms/step - loss: 0.0014\n",
      "Epoch 90/100\n",
      "\u001b[1m38/38\u001b[0m \u001b[32m━━━━━━━━━━━━━━━━━━━━\u001b[0m\u001b[37m\u001b[0m \u001b[1m2s\u001b[0m 51ms/step - loss: 0.0015\n",
      "Epoch 91/100\n",
      "\u001b[1m38/38\u001b[0m \u001b[32m━━━━━━━━━━━━━━━━━━━━\u001b[0m\u001b[37m\u001b[0m \u001b[1m2s\u001b[0m 49ms/step - loss: 0.0015\n",
      "Epoch 92/100\n",
      "\u001b[1m38/38\u001b[0m \u001b[32m━━━━━━━━━━━━━━━━━━━━\u001b[0m\u001b[37m\u001b[0m \u001b[1m2s\u001b[0m 50ms/step - loss: 0.0015\n",
      "Epoch 93/100\n",
      "\u001b[1m38/38\u001b[0m \u001b[32m━━━━━━━━━━━━━━━━━━━━\u001b[0m\u001b[37m\u001b[0m \u001b[1m3s\u001b[0m 64ms/step - loss: 0.0016\n",
      "Epoch 94/100\n",
      "\u001b[1m38/38\u001b[0m \u001b[32m━━━━━━━━━━━━━━━━━━━━\u001b[0m\u001b[37m\u001b[0m \u001b[1m3s\u001b[0m 59ms/step - loss: 0.0014\n",
      "Epoch 95/100\n",
      "\u001b[1m38/38\u001b[0m \u001b[32m━━━━━━━━━━━━━━━━━━━━\u001b[0m\u001b[37m\u001b[0m \u001b[1m2s\u001b[0m 62ms/step - loss: 0.0015\n",
      "Epoch 96/100\n",
      "\u001b[1m38/38\u001b[0m \u001b[32m━━━━━━━━━━━━━━━━━━━━\u001b[0m\u001b[37m\u001b[0m \u001b[1m2s\u001b[0m 62ms/step - loss: 0.0016\n",
      "Epoch 97/100\n",
      "\u001b[1m38/38\u001b[0m \u001b[32m━━━━━━━━━━━━━━━━━━━━\u001b[0m\u001b[37m\u001b[0m \u001b[1m2s\u001b[0m 63ms/step - loss: 0.0015\n",
      "Epoch 98/100\n",
      "\u001b[1m38/38\u001b[0m \u001b[32m━━━━━━━━━━━━━━━━━━━━\u001b[0m\u001b[37m\u001b[0m \u001b[1m2s\u001b[0m 60ms/step - loss: 0.0013\n",
      "Epoch 99/100\n",
      "\u001b[1m38/38\u001b[0m \u001b[32m━━━━━━━━━━━━━━━━━━━━\u001b[0m\u001b[37m\u001b[0m \u001b[1m2s\u001b[0m 58ms/step - loss: 0.0012\n",
      "Epoch 100/100\n",
      "\u001b[1m38/38\u001b[0m \u001b[32m━━━━━━━━━━━━━━━━━━━━\u001b[0m\u001b[37m\u001b[0m \u001b[1m2s\u001b[0m 59ms/step - loss: 0.0012\n"
     ]
    },
    {
     "data": {
      "text/plain": [
       "<keras.src.callbacks.history.History at 0x13c86cca3d0>"
      ]
     },
     "execution_count": 14,
     "metadata": {},
     "output_type": "execute_result"
    }
   ],
   "source": [
    "regressor.fit(X_train, y_train, epochs = 100, batch_size = 32) # épocas: cuantas veces queremos que se propaguen hacia atras los errores sobre todo el set, batch_size: tamaño del lote, introducimos los datos en bloques para que una vez receptados, recién ahí permita actualizar pesos\n",
    "# Para este tipo de problemas necesitamos muchas épocas, dado que los datos son relativamente pocos\n",
    "# Al pasarle los datos en bloques, me evita el sobreajuste de pasarle a la red las observaciones de manera individual, además de no pasárselo del tamaño del dataset cada iteración, lo que puede no permitirme encontrar el máximo global (buscar punto medio, potencias de 2) (me hace 38 iteraciones sobre los 32 datos de cada bloque para cubir todo el dataset en una época)\n",
    "# Si la función de pérdida luego de entrenar fuera 0, lo más probable es que suframos de Overffiting (esto lo ayudamos a evitar con Dropout), debemos buscar el valor mínimo de la función de pérdida estabilizado "
   ]
  },
  {
   "cell_type": "markdown",
   "metadata": {
    "colab_type": "text",
    "id": "KwHuYDWfcPEZ"
   },
   "source": [
    "# Parte 3 - Ajustar las predicciones y visualizar los resultados"
   ]
  },
  {
   "cell_type": "markdown",
   "metadata": {
    "colab_type": "text",
    "id": "bu5TY8-ampml"
   },
   "source": [
    "## Obtener el valor de las acciones reales  de Enero de 2017"
   ]
  },
  {
   "cell_type": "code",
   "execution_count": 15,
   "metadata": {
    "colab": {},
    "colab_type": "code",
    "id": "Z7k7KG9SZOjL"
   },
   "outputs": [],
   "source": [
    "# Usaremos los valores de las acciones en 2017 para corroborar si el entrenamiento realizado de la red con los datos de 2012-2016 de los precios de apertura y la configuración actual de la RNN me bastan para predecir correctamente el precio de la acción en el futuro\n",
    "dataset_test = pd.read_csv('Google_Stock_Price_Test.csv') # guardamos en test los precios de la acción de Google en Enero de 2017\n",
    "real_stock_price = dataset_test.iloc[:, 1:2].values # De todos los datos de test, me guardo los precios de Apertura, que son la misma variable con la que entrené la RNN y la misma variable que brinda de salida"
   ]
  },
  {
   "cell_type": "markdown",
   "metadata": {
    "colab_type": "text",
    "id": "1_6dWXuzmuHS"
   },
   "source": [
    "## Obtener la predicción de la acción con la RNR para Enero de 2017"
   ]
  },
  {
   "cell_type": "code",
   "execution_count": 16,
   "metadata": {
    "colab": {
     "base_uri": "https://localhost:8080/",
     "height": 295
    },
    "colab_type": "code",
    "id": "sbDeaSRQmveW",
    "outputId": "e896a13b-9a05-4260-da22-3d254c491655"
   },
   "outputs": [
    {
     "name": "stdout",
     "output_type": "stream",
     "text": [
      "\u001b[1m1/1\u001b[0m \u001b[32m━━━━━━━━━━━━━━━━━━━━\u001b[0m\u001b[37m\u001b[0m \u001b[1m1s\u001b[0m 826ms/step\n"
     ]
    },
    {
     "data": {
      "image/png": "[encoded data removed]",
      "text/plain": [
       "<Figure size 640x480 with 1 Axes>"
      ]
     },
     "metadata": {},
     "output_type": "display_data"
    }
   ],
   "source": [
    "# Esto lo usamos para probar el rendimiento de nuestra RNN con respecto a nuevos datos\n",
    "# Nuestro conjunto de test también tendrá datos que nos harán falta para predecir el valor de la acción en Enero (ya que, aunque para el primer día podemos predecir exclusivamente con los 60 datos anteriores, para el segundo ya necesitamos la primer predicción de Enero 2017, que esta entre los 60 días anteriores)\n",
    "# Debemos concatenar el conjunto de train y test\n",
    "\n",
    "dataset_total = pd.concat((dataset_train['Open'], dataset_test['Open']), axis = 0) # concatenamos los 2 dataset (tomando la variable/columna 'Open'). Con concat le pasamos una tupla con los 2 df/arrays que concatenar y en base a que eje lo queremos juntar (uno debajo de otro, 0 (los unen por filas); uno a la derecha del otro, 1 (los unen por columnas))\n",
    "inputs = dataset_total[len(dataset_total) - len(dataset_test) - 60:].values # aclaro los inputs que necesito para predecir Enero 2017, comienzo aclarando que para la primera predicción de enero, voy a necesitar los 60 datos previos de 2016 (tomamos los 60 días previos a la primera predicción de nuestro conjunto de test y los 20 días a predecir de Enero, los cuales seguirán siendo parte de esos 60 datos previos para las próximas predicciones). Tenemos los 80 últimos datos (cambiar 60 por los timesteps específicos)\n",
    "inputs = inputs.reshape(-1,1) # Redimensionamos los datos extraídos a las filas y columnas de una matriz numpy (deja la primera dimensión y añade una segunda dimensión tomando las columnas incluidas originalmente)\n",
    "inputs = sc.transform(inputs) # la RNN aprendió con los datos normalizados, por los que debemos transformarlos a los inputs (con el mismo escalador usado para el entrenamiento, por lo que es sólo transform). El min y el max ya se han establecido con el conjunto de train, no preocuparse por superar el umbral de 1 ni bajar el de 0\n",
    "X_test = [] # matriz que vamos a suministrar a la RNN para que me prediga (no necesito y_test ya que no necesito comparar para entrenamiento)\n",
    "for i in range(60, 80): # (timesteps (primer día del conj a predecir), timesteps + rango/filas del conjunto de test (ult día del conj a predecir))\n",
    "    X_test.append(inputs[i-60:i, 0]) # le suministramos por iteración los datos que necesita la RNN para predecir los 20 días de Enero con inputs (que recordemos que posee los 60 días anteriores a la primer predicción de enero para cubrir por completo todos los requerimiento de entradas para predecir, con el 0 representando la columna). Para el valor 0 de la predicción de X_test voy a tener los datos del 0 al 59, para el valor 1 del 1 al 60, y así, conforme vaya realizando predicciones (hasta tomar del 19 al 79 para predecir el valor 80, último dia de enero)\n",
    "X_test = np.array(X_test) # los transformo en matriz array\n",
    "X_test = np.reshape(X_test, (X_test.shape[0], X_test.shape[1], 1)) # las transformo en matriz 3D, según la cantidad de variables que use como profundidad (en nuestro caso solo 1, los precios de apertura)\n",
    "\n",
    "predicted_stock_price = regressor.predict(X_test) # le pedimos que me prediga el valor de la acción de los 20 días hábiles de Enero 2017 con la RNN\n",
    "predicted_stock_price = sc.inverse_transform(predicted_stock_price) # revertimos el escalado para que la salida de la RNN (predicción) sea acorde y comparable (con el mismo escaldor usado aplicandole el inverse)\n",
    "\n",
    "# Visualizar los Resultados (verificamos si las tendencias predichas por la RNN concuerdan con la verdaderamente observada)\n",
    "plt.plot(real_stock_price, color = 'red', label = 'Precio Real de la Accion de Google')\n",
    "plt.plot(predicted_stock_price, color = 'blue', label = 'Precio Predicho de la Accion de Google')\n",
    "plt.title(\"Prediccion con una RNR del valor de las acciones de Google\")\n",
    "plt.xlabel(\"Fecha\")\n",
    "plt.ylabel(\"Precio de la accion de Google\")\n",
    "plt.legend()\n",
    "plt.show()\n",
    "\n",
    "# El dataset lo hemos sacado de Yahoo Finance\n",
    "# Los cambios bruscos en tendencia (como los del pico de la acción) son difíciles de identificar por una RNN, ya que ese pico podría no estar explicado por los datos previos de precios (eventos externos no captados como entrada)\n",
    "# La tendencia global ha sido correctamente identificada por nuestra RNN (cuando crecen y cuando decrecen), sin embargo, nuestro modelo no puede reaccionar correctamente a los cambios bruscos (Movimientos brownianos)"
   ]
  },
  {
   "cell_type": "markdown",
   "metadata": {},
   "source": [
    "# Parte 4 - Evaluar, Mejorar y Ajustar la RNN"
   ]
  },
  {
   "cell_type": "markdown",
   "metadata": {},
   "source": [
    "## Obtenemos el RMSE y RMSE Relativo de nuestra predicción del conjunto de test"
   ]
  },
  {
   "cell_type": "code",
   "execution_count": 20,
   "metadata": {},
   "outputs": [
    {
     "name": "stdout",
     "output_type": "stream",
     "text": [
      "14.504450021643533\n",
      "0.2637172731207915\n"
     ]
    }
   ],
   "source": [
    "import math\n",
    "from sklearn.metrics import mean_squared_error\n",
    "rmse = math.sqrt(mean_squared_error(real_stock_price, predicted_stock_price))\n",
    "print(rmse)\n",
    "# Sin embargo, el RMSE no nos sirve tanto para tomar dimensión de la capacidad predictiva de nuestra RNN, ya que para acciones, más que la capacidad de captar el precio exacto, nos interesa poder captar la tendencia del valor de las acciones\n",
    "# Calculamos el RMSE Relativo (RMSE / rango de valores del precio de acciones de Google durante el periodo de Test) para saber el error con respecto a la variabilidad del set\n",
    "rmse_rel = rmse / (835-780)\n",
    "print(rmse_rel) # mejor indicador del error cometido por el modelo"
   ]
  },
  {
   "cell_type": "markdown",
   "metadata": {},
   "source": [
    "## Maneras de mejorar la RNN"
   ]
  },
  {
   "cell_type": "markdown",
   "metadata": {},
   "source": [
    "- Obteniendo más datos de entrenamiento (en vez de entrenarla con los últimos 5 años, entrenarla con los últimos 10)\n",
    "- Aumento del número de timesteps (en vez de recordar al predecir los precios de los últimos 3 meses, hacerlo con los precios de los últimos 6 meses, por ejemplo)\n",
    "- Agregar otros indicadores (los brokers de verdad utilizan el precio de otras acciones en entrenamiento para determinar la variación de la acción en análisis, y algunos otros índices financieros)\n",
    "- Agregar más capas LSTM\n",
    "- Agregar más neuronas por capa LSTM"
   ]
  },
  {
   "cell_type": "markdown",
   "metadata": {},
   "source": [
    "## Ajuste de parámetros con GridSearchCV"
   ]
  },
  {
   "cell_type": "markdown",
   "metadata": {},
   "source": [
    "- En RNN podemos aplicar el mismo ajuste de parámetros visto en ANN con GridSearchCV, lo único que tendríamos que reemplazar sería el scoring = 'accuracy' por el scoring = 'neg_mean_squared_error' (recordar que en ANN abarcamos un problema de Clasificación)"
   ]
  }
 ],
 "metadata": {
  "accelerator": "GPU",
  "colab": {
   "collapsed_sections": [],
   "name": "RNN.ipynb",
   "provenance": []
  },
  "kernelspec": {
   "display_name": "Python 3 (ipykernel)",
   "language": "python",
   "name": "python3"
  },
  "language_info": {
   "codemirror_mode": {
    "name": "ipython",
    "version": 3
   },
   "file_extension": ".py",
   "mimetype": "text/x-python",
   "name": "python",
   "nbconvert_exporter": "python",
   "pygments_lexer": "ipython3",
   "version": "3.11.7"
  }
 },
 "nbformat": 4,
 "nbformat_minor": 4
}
