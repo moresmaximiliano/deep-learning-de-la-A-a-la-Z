{
 "cells": [
  {
   "cell_type": "markdown",
   "metadata": {
    "colab_type": "text",
    "id": "KdUFcDsdzRyw"
   },
   "source": [
    "# Clonamos el repositorio para obtener los dataSet"
   ]
  },
  {
   "cell_type": "code",
   "execution_count": 1,
   "metadata": {
    "colab": {
     "base_uri": "https://localhost:8080/",
     "height": 153
    },
    "colab_type": "code",
    "id": "mHReFf3_y9ms",
    "outputId": "16e47efa-2691-4fcc-992e-e0577a7d0098"
   },
   "outputs": [
    {
     "name": "stdout",
     "output_type": "stream",
     "text": [
      "Cloning into 'deeplearning-az'...\n",
      "remote: Enumerating objects: 71, done.\u001b[K\n",
      "remote: Counting objects: 100% (71/71), done.\u001b[K\n",
      "remote: Compressing objects: 100% (51/51), done.\u001b[K\n",
      "remote: Total 10167 (delta 35), reused 44 (delta 20), pack-reused 10096\u001b[K\n",
      "Receiving objects: 100% (10167/10167), 236.96 MiB | 24.11 MiB/s, done.\n",
      "Resolving deltas: 100% (60/60), done.\n",
      "Checking out files: 100% (10110/10110), done.\n"
     ]
    }
   ],
   "source": [
    "!git clone https://github.com/joanby/deeplearning-az.git"
   ]
  },
  {
   "cell_type": "markdown",
   "metadata": {
    "colab_type": "text",
    "id": "vNKZXgtKzU2x"
   },
   "source": [
    "# Damos acceso a nuestro Drive"
   ]
  },
  {
   "cell_type": "code",
   "execution_count": null,
   "metadata": {
    "colab": {},
    "colab_type": "code",
    "id": "5gu7KWnzzUQ0"
   },
   "outputs": [],
   "source": [
    "from google.colab import drive\n",
    "drive.mount('/content/drive')"
   ]
  },
  {
   "cell_type": "markdown",
   "metadata": {
    "colab_type": "text",
    "id": "1gUxIkHWzfHV"
   },
   "source": [
    "# Test it"
   ]
  },
  {
   "cell_type": "code",
   "execution_count": null,
   "metadata": {
    "colab": {},
    "colab_type": "code",
    "id": "mIQt3jBMzYRE"
   },
   "outputs": [],
   "source": [
    "!ls '/content/drive/My Drive' "
   ]
  },
  {
   "cell_type": "markdown",
   "metadata": {
    "colab_type": "text",
    "id": "mHsK36uN0XB-"
   },
   "source": [
    "# Google colab tools"
   ]
  },
  {
   "cell_type": "code",
   "execution_count": 9,
   "metadata": {
    "colab": {},
    "colab_type": "code",
    "id": "kTzwfUPWzrm4"
   },
   "outputs": [],
   "source": [
    "from google.colab import files # Para manejar los archivos y, por ejemplo, exportar a su navegador\n",
    "import glob # Para manejar los archivos y, por ejemplo, exportar a su navegador\n",
    "from google.colab import drive # Montar tu Google drive"
   ]
  },
  {
   "cell_type": "markdown",
   "metadata": {
    "colab_type": "text",
    "id": "uab9OAbV8hYN"
   },
   "source": [
    "# Instalar dependendias"
   ]
  },
  {
   "cell_type": "code",
   "execution_count": 48,
   "metadata": {
    "colab": {
     "base_uri": "https://localhost:8080/",
     "height": 122
    },
    "colab_type": "code",
    "id": "qukjDgj98kE4",
    "outputId": "3d7cad17-e607-4d67-8edd-69b8a947a485"
   },
   "outputs": [
    {
     "name": "stdout",
     "output_type": "stream",
     "text": [
      "Requirement already satisfied: sklearn in /usr/local/lib/python3.6/dist-packages (0.0)\n",
      "Requirement already satisfied: scikit-learn in /usr/local/lib/python3.6/dist-packages (from sklearn) (0.22.2.post1)\n",
      "Requirement already satisfied: scipy>=0.17.0 in /usr/local/lib/python3.6/dist-packages (from scikit-learn->sklearn) (1.4.1)\n",
      "Requirement already satisfied: numpy>=1.11.0 in /usr/local/lib/python3.6/dist-packages (from scikit-learn->sklearn) (1.18.5)\n",
      "Requirement already satisfied: joblib>=0.11 in /usr/local/lib/python3.6/dist-packages (from scikit-learn->sklearn) (0.16.0)\n"
     ]
    }
   ],
   "source": [
    "!pip install sklearn"
   ]
  },
  {
   "cell_type": "markdown",
   "metadata": {
    "colab_type": "text",
    "id": "4_lCXxqObOEc"
   },
   "source": [
    "# Instalar Theano"
   ]
  },
  {
   "cell_type": "code",
   "execution_count": 49,
   "metadata": {
    "colab": {
     "base_uri": "https://localhost:8080/",
     "height": 258
    },
    "colab_type": "code",
    "id": "ZuKBi9yzbOEd",
    "outputId": "7f7df967-68eb-4cdb-8c3a-53194935d414"
   },
   "outputs": [
    {
     "name": "stdout",
     "output_type": "stream",
     "text": [
      "Collecting git+git://github.com/Theano/Theano.git\n",
      "  Cloning git://github.com/Theano/Theano.git to /tmp/pip-req-build-cwaf9zhz\n",
      "  Running command git clone -q git://github.com/Theano/Theano.git /tmp/pip-req-build-cwaf9zhz\n",
      "Building wheels for collected packages: Theano\n",
      "  Building wheel for Theano (setup.py) ... \u001b[?25l\u001b[?25hdone\n",
      "  Created wheel for Theano: filename=Theano-1.0.5+1.geb6a4125c-cp36-none-any.whl size=2668281 sha256=16a72f1b629eac7c060fce42b066ed720b4fa7fbcd873b0fbbf0b1006755f95c\n",
      "  Stored in directory: /tmp/pip-ephem-wheel-cache-tkol9apy/wheels/ae/32/7c/62beb8371953eb20c271b3bac7d0e56e1a2020d46994346b52\n",
      "Successfully built Theano\n",
      "Installing collected packages: Theano\n",
      "  Found existing installation: Theano 1.0.5+1.geb6a4125c\n",
      "    Uninstalling Theano-1.0.5+1.geb6a4125c:\n",
      "      Successfully uninstalled Theano-1.0.5+1.geb6a4125c\n",
      "Successfully installed Theano-1.0.5+1.geb6a4125c\n"
     ]
    }
   ],
   "source": [
    "!pip install --upgrade --no-deps git+git://github.com/Theano/Theano.git"
   ]
  },
  {
   "cell_type": "markdown",
   "metadata": {
    "colab_type": "text",
    "id": "JQVWgYPgbOEg"
   },
   "source": [
    "# Instalar Tensorflow y Keras\n"
   ]
  },
  {
   "cell_type": "code",
   "execution_count": 50,
   "metadata": {
    "colab": {
     "base_uri": "https://localhost:8080/",
     "height": 768
    },
    "colab_type": "code",
    "id": "lQlELtH5bOEg",
    "outputId": "7ffe5518-7c9e-4ceb-9611-3694ea15cbc8"
   },
   "outputs": [
    {
     "name": "stdout",
     "output_type": "stream",
     "text": [
      "Requirement already satisfied: keras in /usr/local/lib/python3.6/dist-packages (2.4.3)\n",
      "Requirement already satisfied: scipy>=0.14 in /usr/local/lib/python3.6/dist-packages (from keras) (1.4.1)\n",
      "Requirement already satisfied: numpy>=1.9.1 in /usr/local/lib/python3.6/dist-packages (from keras) (1.18.5)\n",
      "Requirement already satisfied: h5py in /usr/local/lib/python3.6/dist-packages (from keras) (2.10.0)\n",
      "Requirement already satisfied: pyyaml in /usr/local/lib/python3.6/dist-packages (from keras) (3.13)\n",
      "Requirement already satisfied: six in /usr/local/lib/python3.6/dist-packages (from h5py->keras) (1.15.0)\n",
      "Requirement already satisfied: tensorflow in /usr/local/lib/python3.6/dist-packages (2.3.0)\n",
      "Requirement already satisfied: astunparse==1.6.3 in /usr/local/lib/python3.6/dist-packages (from tensorflow) (1.6.3)\n",
      "Requirement already satisfied: wrapt>=1.11.1 in /usr/local/lib/python3.6/dist-packages (from tensorflow) (1.12.1)\n",
      "Requirement already satisfied: h5py<2.11.0,>=2.10.0 in /usr/local/lib/python3.6/dist-packages (from tensorflow) (2.10.0)\n",
      "Requirement already satisfied: termcolor>=1.1.0 in /usr/local/lib/python3.6/dist-packages (from tensorflow) (1.1.0)\n",
      "Requirement already satisfied: gast==0.3.3 in /usr/local/lib/python3.6/dist-packages (from tensorflow) (0.3.3)\n",
      "Requirement already satisfied: scipy==1.4.1 in /usr/local/lib/python3.6/dist-packages (from tensorflow) (1.4.1)\n",
      "Requirement already satisfied: opt-einsum>=2.3.2 in /usr/local/lib/python3.6/dist-packages (from tensorflow) (3.3.0)\n",
      "Requirement already satisfied: protobuf>=3.9.2 in /usr/local/lib/python3.6/dist-packages (from tensorflow) (3.12.4)\n",
      "Requirement already satisfied: numpy<1.19.0,>=1.16.0 in /usr/local/lib/python3.6/dist-packages (from tensorflow) (1.18.5)\n",
      "Requirement already satisfied: wheel>=0.26 in /usr/local/lib/python3.6/dist-packages (from tensorflow) (0.35.1)\n",
      "Requirement already satisfied: six>=1.12.0 in /usr/local/lib/python3.6/dist-packages (from tensorflow) (1.15.0)\n",
      "Requirement already satisfied: tensorflow-estimator<2.4.0,>=2.3.0 in /usr/local/lib/python3.6/dist-packages (from tensorflow) (2.3.0)\n",
      "Requirement already satisfied: absl-py>=0.7.0 in /usr/local/lib/python3.6/dist-packages (from tensorflow) (0.8.1)\n",
      "Requirement already satisfied: tensorboard<3,>=2.3.0 in /usr/local/lib/python3.6/dist-packages (from tensorflow) (2.3.0)\n",
      "Requirement already satisfied: keras-preprocessing<1.2,>=1.1.1 in /usr/local/lib/python3.6/dist-packages (from tensorflow) (1.1.2)\n",
      "Requirement already satisfied: grpcio>=1.8.6 in /usr/local/lib/python3.6/dist-packages (from tensorflow) (1.31.0)\n",
      "Requirement already satisfied: google-pasta>=0.1.8 in /usr/local/lib/python3.6/dist-packages (from tensorflow) (0.2.0)\n",
      "Requirement already satisfied: setuptools in /usr/local/lib/python3.6/dist-packages (from protobuf>=3.9.2->tensorflow) (49.6.0)\n",
      "Requirement already satisfied: google-auth-oauthlib<0.5,>=0.4.1 in /usr/local/lib/python3.6/dist-packages (from tensorboard<3,>=2.3.0->tensorflow) (0.4.1)\n",
      "Requirement already satisfied: tensorboard-plugin-wit>=1.6.0 in /usr/local/lib/python3.6/dist-packages (from tensorboard<3,>=2.3.0->tensorflow) (1.7.0)\n",
      "Requirement already satisfied: google-auth<2,>=1.6.3 in /usr/local/lib/python3.6/dist-packages (from tensorboard<3,>=2.3.0->tensorflow) (1.17.2)\n",
      "Requirement already satisfied: requests<3,>=2.21.0 in /usr/local/lib/python3.6/dist-packages (from tensorboard<3,>=2.3.0->tensorflow) (2.23.0)\n",
      "Requirement already satisfied: markdown>=2.6.8 in /usr/local/lib/python3.6/dist-packages (from tensorboard<3,>=2.3.0->tensorflow) (3.2.2)\n",
      "Requirement already satisfied: werkzeug>=0.11.15 in /usr/local/lib/python3.6/dist-packages (from tensorboard<3,>=2.3.0->tensorflow) (1.0.1)\n",
      "Requirement already satisfied: requests-oauthlib>=0.7.0 in /usr/local/lib/python3.6/dist-packages (from google-auth-oauthlib<0.5,>=0.4.1->tensorboard<3,>=2.3.0->tensorflow) (1.3.0)\n",
      "Requirement already satisfied: pyasn1-modules>=0.2.1 in /usr/local/lib/python3.6/dist-packages (from google-auth<2,>=1.6.3->tensorboard<3,>=2.3.0->tensorflow) (0.2.8)\n",
      "Requirement already satisfied: rsa<5,>=3.1.4; python_version >= \"3\" in /usr/local/lib/python3.6/dist-packages (from google-auth<2,>=1.6.3->tensorboard<3,>=2.3.0->tensorflow) (4.6)\n",
      "Requirement already satisfied: cachetools<5.0,>=2.0.0 in /usr/local/lib/python3.6/dist-packages (from google-auth<2,>=1.6.3->tensorboard<3,>=2.3.0->tensorflow) (4.1.1)\n",
      "Requirement already satisfied: certifi>=2017.4.17 in /usr/local/lib/python3.6/dist-packages (from requests<3,>=2.21.0->tensorboard<3,>=2.3.0->tensorflow) (2020.6.20)\n",
      "Requirement already satisfied: chardet<4,>=3.0.2 in /usr/local/lib/python3.6/dist-packages (from requests<3,>=2.21.0->tensorboard<3,>=2.3.0->tensorflow) (3.0.4)\n",
      "Requirement already satisfied: urllib3!=1.25.0,!=1.25.1,<1.26,>=1.21.1 in /usr/local/lib/python3.6/dist-packages (from requests<3,>=2.21.0->tensorboard<3,>=2.3.0->tensorflow) (1.24.3)\n",
      "Requirement already satisfied: idna<3,>=2.5 in /usr/local/lib/python3.6/dist-packages (from requests<3,>=2.21.0->tensorboard<3,>=2.3.0->tensorflow) (2.10)\n",
      "Requirement already satisfied: importlib-metadata; python_version < \"3.8\" in /usr/local/lib/python3.6/dist-packages (from markdown>=2.6.8->tensorboard<3,>=2.3.0->tensorflow) (1.7.0)\n",
      "Requirement already satisfied: oauthlib>=3.0.0 in /usr/local/lib/python3.6/dist-packages (from requests-oauthlib>=0.7.0->google-auth-oauthlib<0.5,>=0.4.1->tensorboard<3,>=2.3.0->tensorflow) (3.1.0)\n",
      "Requirement already satisfied: pyasn1<0.5.0,>=0.4.6 in /usr/local/lib/python3.6/dist-packages (from pyasn1-modules>=0.2.1->google-auth<2,>=1.6.3->tensorboard<3,>=2.3.0->tensorflow) (0.4.8)\n",
      "Requirement already satisfied: zipp>=0.5 in /usr/local/lib/python3.6/dist-packages (from importlib-metadata; python_version < \"3.8\"->markdown>=2.6.8->tensorboard<3,>=2.3.0->tensorflow) (3.1.0)\n"
     ]
    }
   ],
   "source": [
    "!pip install keras\n",
    "!pip install tensorflow"
   ]
  },
  {
   "cell_type": "markdown",
   "metadata": {
    "colab_type": "text",
    "id": "3yFpBwmNz70v"
   },
   "source": [
    "# SOM\n"
   ]
  },
  {
   "cell_type": "markdown",
   "metadata": {
    "colab_type": "text",
    "id": "v8OxSXXSz-OP"
   },
   "source": [
    "# Cómo importar las librerías\n"
   ]
  },
  {
   "cell_type": "code",
   "execution_count": 1,
   "metadata": {
    "colab": {},
    "colab_type": "code",
    "id": "edZX51YLzs59"
   },
   "outputs": [],
   "source": [
    "import numpy as np\n",
    "import matplotlib.pyplot as plt\n",
    "import pandas as pd"
   ]
  },
  {
   "cell_type": "markdown",
   "metadata": {
    "colab_type": "text",
    "id": "8XfXlqtF0B58"
   },
   "source": [
    "# Importar el data set\n"
   ]
  },
  {
   "cell_type": "code",
   "execution_count": 2,
   "metadata": {
    "colab": {},
    "colab_type": "code",
    "id": "-nnozsHsz_-N"
   },
   "outputs": [],
   "source": [
    "# El dataset es sobre clientes que solicitan una tarjeta de crédito al banco, nuestra misión es identificar posibles fraudes (clientes que contestaron mal el formulario para poder obtener la tarjeta de crédito sin cumplir exigencias mínimas)\n",
    "# Es un problema no supervisado (ya que buscaré fraudes sin saber si efectivamente se produjo uno o no). Sin embargo, en nuestro caso, hacemos 'trampa' porque la situación de fraude aparece en el dataset. De igual manera no usaremos esa columna para realizar eL SOM\n",
    "dataset = pd.read_csv('Credit_Card_Applications.csv')\n",
    "X = dataset.iloc[:, :-1].values # solo vamos a utilizar estas para crear el SOM (no vamos a usar train/test xq no hay variable a predecir, o no deberíamos tenerla en este caso)\n",
    "y = dataset.iloc[:, -1].values # si al cliente le fue aprobada o no la tarjeta (debemos informar sobre los clientes que presentaron fraude y les ha sido aprobada su adquisición)\n",
    "\n",
    "# Con las 14 entradas del dataset (X sin considerar los ID) deberé fabricar los nodos en ese espacio 14-dimensional con pesos aleatorios (número de 'pesos' del mismo calibre que las dimensiones/columnas del dataset usado)\n",
    "# Los nodos luego iran 'compitiendo' por asemejarse a los datos, actualizando los 'pesos' de los ganadores a los datos hasta acoplarse a la distribución de los mismos en su dimensión correspondiente\n",
    "# Cada vez que repitamos el proceso, el espacio de salida irá dismiuyendo dimensiones, llegando hasta el punto en que las distancias entre las observaciones dejarán de disminuir\n",
    "# Cuando eso pase, nos quedaremos con las observaciones proyectadas en sendos nodos (2 dimensiones), en la que podremos detectar los fraudes\n",
    "# Luego en el SOM, detectaremos los datos cuyos valores cercanos no sean los correspondientes a su clase (valores atípicos), sospechando de ellos para la detección de fraudes y usando la distancia euclídea\n",
    "# Inicialmente conservo los ID en X para luego, al identificar los fraudulentos, ver a que ID corresponden"
   ]
  },
  {
   "cell_type": "markdown",
   "metadata": {
    "colab_type": "text",
    "id": "xtzD5VD4bOEn"
   },
   "source": [
    "# Escalado de características"
   ]
  },
  {
   "cell_type": "code",
   "execution_count": 3,
   "metadata": {
    "colab": {},
    "colab_type": "code",
    "id": "v9CtwK834bjy"
   },
   "outputs": [],
   "source": [
    "# Para todos los algoritmos relacionados con las distancias, es conveniente reescalar los datos (ya sea estandarizar o normalizar)\n",
    "from sklearn.preprocessing import MinMaxScaler\n",
    "sc = MinMaxScaler(feature_range = (0, 1)) # normalizamos (lo hace por defecto)\n",
    "X = sc.fit_transform(X) # fit para extrar el min y max para el cálculo y transform para aplicar"
   ]
  },
  {
   "cell_type": "markdown",
   "metadata": {
    "colab_type": "text",
    "id": "5AH_uCEz68rb"
   },
   "source": [
    "# Entrenar el SOM"
   ]
  },
  {
   "cell_type": "code",
   "execution_count": 4,
   "metadata": {
    "colab": {},
    "colab_type": "code",
    "id": "oeuAy8LI69vi"
   },
   "outputs": [],
   "source": [
    "import sys\n",
    "sys.path.append('4 - Self Organizing Maps (SOM)') # agregamos la dirección donde se ubica la librería minisom con su correspondiente función\n",
    "from minisom import MiniSom # Función Open Source para SOM\n",
    "som = MiniSom(x = 10, y = 10, input_len = 15, sigma = 1.0, learning_rate = 0.5) # x e y: tamaño del mapa en términos de cuadrículas (ver número que me permita ver valores atípicos, mientras más grande mas detallado), input_len: longitud de la entrada (num de VI a ingresar, conservamos ID para luego identificar clientes fraudulentos), sigma: radio inicial de nodos que atraen observaciones y se perfeccionan luego reduciendosé, learning_rate: tasa de aprendizaje (muy alto nos podemos pasar, muy bajo demorará convergencia)  \n",
    "som.random_weights_init(X) # inicializo aleatoriamente el vector de pesos (15 pesos) de las neuronas del SOM\n",
    "som.train_random(data = X, num_iteration = 100) # entrenamos el SOM en base al set de datos (se ajusta en el plano 15-dimensional en base a ellos), realizando 100 iteraciones sobre el set de datos (En este caso aplicamos Reinforcement Learning, actualizando los pesos con cada obs, pero podríamos aplicarlo también por Batch, actualizando los pesos una vez ingresados una n cantidad de los mismos)\n",
    "# El tamaño del mapa en número de cuadrículas nos mostrará el número de nodos, los cuales se ajustarán a las observaciones"
   ]
  },
  {
   "cell_type": "markdown",
   "metadata": {
    "colab_type": "text",
    "id": "sfzLXHPwbOEt"
   },
   "source": [
    "# Visualizar los resultados\n"
   ]
  },
  {
   "cell_type": "code",
   "execution_count": 5,
   "metadata": {
    "colab": {
     "base_uri": "https://localhost:8080/",
     "height": 269
    },
    "colab_type": "code",
    "id": "8m2LCgz8bOEt",
    "outputId": "238680a3-e10e-4e6e-8968-81bf39885b34"
   },
   "outputs": [
    {
     "data": {
      "image/png": "[encoded data removed]",
      "text/plain": [
       "<Figure size 640x480 with 2 Axes>"
      ]
     },
     "metadata": {},
     "output_type": "display_data"
    }
   ],
   "source": [
    "# Veremos los nodos finales que tengan lo más cerca posible las observaciones, analizando los MID (índices de vecinos, distancias medias entre neuronas) de los nodos para observar los valores atípicos, obteniendo así los fraudes\n",
    "from pylab import bone, pcolor, colorbar, plot, show\n",
    "bone() # me crea la ventana de dibujo (SOM)\n",
    "pcolor(som.distance_map().T) # agregamos el rango de colores según su distancia media\n",
    "colorbar() # creo una barra de color para indicarme los valores típicos y atípicos. El color blanco me indica MID más elevadas (vecinos más alejados, potenciales fraudes, valores atípicos), mientras que el negro lo contrario (los nodos ganadores se encuentran cerca de este color)\n",
    "markers = ['o', 's'] # círculo (o) y cuadrado (s)\n",
    "colors = ['r', 'g'] # circulo rojo(r): clientes que no tuvieron aprobación de tarjeta, cuadrado verde(g): clientes que si obtuvieron aprobación\n",
    "for i, x in enumerate(X): # iteramos sobre todos los clientes (x ponemos para obtener el valor de c/u) \n",
    "    w = som.winner(x) # nodo ganador para cada uno de los clientes (donde se encuentra en el mapa ese cliente) (coordenadas en donde se encuentra el nodo ganador)\n",
    "    plot(w[0]+0.5, w[1]+0.5, # pintamos el cuadrado o el círculo según si tuvo o no aprobación de tarjeta el cliente (de manera centrada) (según y)\n",
    "         markers[y[i]], markeredgecolor = colors[y[i]], markerfacecolor = 'None', # como el número de clasificación de y corresponde al mismo número de clasificación del color y de marcadores, si es 0 el resultado, usamos según ese primer índice los marcadores y colores (circulo rojo), lo mismo con el segundo caso si fuera 1 (cuadrado verde)\n",
    "         markersize = 10, markeredgewidth = 2) # markeredgecolor: solo pinta los bordes del circulo y cuadrado, markersize: para establecer el tamaño de los marcadores más grande, markeredgewidth: para establecer el grosor de los marcadores\n",
    "show()\n",
    "\n",
    "# El gráfico nos muestra las distancias medias entre las neuronas (con la escala de colores de blanco y negro) y si el cliente obtuvo o no su tarjeta en representación de cada caso (cuadrados y círculos)\n",
    "# Vemos que el rechazo de la solicitud de tarjetas por parte de las observaciones se corresponde alrededor de la zona blanca del gráfico (mayor MID, mayor riesgo de fraude), mientras que lo más cercano al negro suele ser aprobado (menos riesgo de fraude). Tambien hay excepciones de los 2 casos"
   ]
  },
  {
   "cell_type": "markdown",
   "metadata": {
    "colab_type": "text",
    "id": "cgweTaJ67BOB"
   },
   "source": [
    "# Encontrar los fraudes"
   ]
  },
  {
   "cell_type": "code",
   "execution_count": 25,
   "metadata": {},
   "outputs": [
    {
     "name": "stdout",
     "output_type": "stream",
     "text": [
      "mappings[(3,7)] shape: (7, 15)\n",
      "mappings[(5,6)] shape: (8, 15)\n"
     ]
    }
   ],
   "source": [
    "# Con esto verificamos si los nodos blancos poseen datos dentro o no (no concatenar los que no posean)\n",
    "if len(mappings[(3,7)]) > 0:\n",
    "    print(f\"mappings[(3,7)] shape: {np.array(mappings[(3,7)]).shape}\")\n",
    "if len(mappings[(5,6)]) > 0:\n",
    "    print(f\"mappings[(5,6)] shape: {np.array(mappings[(5,6)]).shape}\")\n",
    "if len(mappings[(4,5)]) > 0:\n",
    "    print(f\"mappings[(4,5)] shape: {np.array(mappings[(4,5)]).shape}\")"
   ]
  },
  {
   "cell_type": "code",
   "execution_count": 19,
   "metadata": {
    "colab": {},
    "colab_type": "code",
    "id": "Qla5Fhhef10Z"
   },
   "outputs": [
    {
     "name": "stdout",
     "output_type": "stream",
     "text": [
      "15664793.0\n",
      "15670029.0\n",
      "15763579.0\n",
      "15793825.0\n",
      "15696361.0\n",
      "15750104.0\n",
      "15749964.0\n",
      "15767264.0\n",
      "15761854.0\n",
      "15815040.0\n",
      "15788442.0\n",
      "15633944.0\n",
      "15801072.0\n",
      "15573798.0\n",
      "15647295.0\n"
     ]
    }
   ],
   "source": [
    "# Obtenemos una lista de los nodos ganadores ubicados en las zonas con mayor MID (blanca)\n",
    "mappings = som.win_map(X) # vemos todas las asignaciones del nodo ganador con respecto a cada cliente (y en cuantas observaciones ganó cada nodo) y la información de cada cliente por nodo\n",
    "frauds = np.concatenate( (mappings[(3,7)], mappings[(5,6)]), axis = 0 ) # recuperamos las observaciones de los nodos blancos (x,y con índices según gráfico) para obtener de allí los outliers de los cuales sospechamos de fraude (ajustar a la visualización propia), axis=0 para juntar por filas\n",
    "frauds = sc.inverse_transform(frauds) # invertimos el escalado de las características (especialmente los ids) de los clientes que consideramos como fraude (blanco)\n",
    "for i in range(len(frauds)):\n",
    "    print(frauds[i][0])\n",
    "\n",
    "# Vemos entonces los ids de las personas que son más propensas a presentar un fraude en la información, los cuales deberemos revisar particularmente (en vez de los 700 iniciales a revisar, solo tenemos que hacerlo con este pequeño conjunto ya filtrado con el SOM)"
   ]
  }
 ],
 "metadata": {
  "accelerator": "GPU",
  "colab": {
   "collapsed_sections": [],
   "name": "som.ipynb",
   "provenance": [],
   "toc_visible": true
  },
  "kernelspec": {
   "display_name": "Python 3 (ipykernel)",
   "language": "python",
   "name": "python3"
  },
  "language_info": {
   "codemirror_mode": {
    "name": "ipython",
    "version": 3
   },
   "file_extension": ".py",
   "mimetype": "text/x-python",
   "name": "python",
   "nbconvert_exporter": "python",
   "pygments_lexer": "ipython3",
   "version": "3.11.7"
  }
 },
 "nbformat": 4,
 "nbformat_minor": 4
}
